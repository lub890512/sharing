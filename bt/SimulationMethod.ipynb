{
 "cells": [
  {
   "cell_type": "markdown",
   "metadata": {
    "slideshow": {
     "slide_type": "slide"
    }
   },
   "source": [
    "## Inverse Sampling\n",
    "\n",
    "### Goal:\n",
    "Using uniform random variable to simulate other continuous random variable\n",
    "\n",
    "### Settings:\n",
    "\n",
    "   - cumulative distribution function(cdf):\n",
    "   \n",
    "       $F_Y(a) = P(Y \\leq a)$\n",
    "       \n",
    "       ![](figures/expon.gif)\n",
    "       \n",
    "   - $F(Y) = U \\Rightarrow Y = F^{-1}(U)$:\n",
    "   \n",
    "       $U$ is uniform $(0,1)$ random variable, so $F$ is a function where input is $Y$ and output is $U$.\n",
    "       ![](figures/uni.gif)\n",
    "   \n",
    "### Proof:\n",
    "    \n",
    "$\\begin{align}\n",
    "F_Y(a) &= P(Y \\leq a) \\\\\n",
    "&= P(F^{-1}(U) \\leq a) \\\\\n",
    "&= P(U \\leq F(a)) = F(a)\n",
    "\\end{align}$\n",
    "\n",
    "so, if we know $F_Y$ then, we can use uniform $(0,1)$ random variable to generate variable with cdf $F_Y$"
   ]
  },
  {
   "cell_type": "markdown",
   "metadata": {
    "collapsed": true,
    "slideshow": {
     "slide_type": "slide"
    }
   },
   "source": [
    "### EXAMPLE\n",
    "\n",
    "We can using uniform$(0,1)$ random variable to generate a exponential distributed random variable.\n",
    "\n",
    "- target distribution:\n",
    "    - pdf: $f_Y(y) = \\begin{cases} \n",
    "      e^{-y} & y \\geq 0 \\\\\n",
    "      0 & y < 0 \n",
    "   \\end{cases}$\n",
    "    - cdf: $F_Y(y) = \\begin{cases} \n",
    "      1- e^{-y} & y \\geq 0 \\\\\n",
    "      0 & y < 0 \n",
    "   \\end{cases}$\n",
    "   \n",
    "- input distribution:\n",
    "   - pdf: $f_U(u) = \\begin{cases} \n",
    "      1 & 0 \\leq u \\leq 1 \\\\\n",
    "      0 & others \n",
    "   \\end{cases}$\n",
    "   - cdf: $F_U(u) = \\begin{cases} \n",
    "      0 &  u < 0 \\\\\n",
    "      u & 0 \\leq u \\leq 1 \\\\\n",
    "      1 & u > 1\n",
    "   \\end{cases}$\n",
    "- $F^{-1}$\n",
    "   - $1-e^{-y} = u \\Rightarrow y = -log(1-u)$\n",
    "   - Input uniform rv to function $-log(1-u)$ then the output is exponential rv"
   ]
  },
  {
   "cell_type": "markdown",
   "metadata": {
    "slideshow": {
     "slide_type": "slide"
    }
   },
   "source": [
    "### CODING VALIDATION"
   ]
  },
  {
   "cell_type": "code",
   "execution_count": 1,
   "metadata": {
    "collapsed": true,
    "slideshow": {
     "slide_type": "subslide"
    }
   },
   "outputs": [],
   "source": [
    "import numpy as np\n",
    "import matplotlib.pyplot as plt\n",
    "from scipy.stats import expon\n",
    "from scipy.stats import uniform"
   ]
  },
  {
   "cell_type": "code",
   "execution_count": 2,
   "metadata": {
    "slideshow": {
     "slide_type": "subslide"
    }
   },
   "outputs": [
    {
     "data": {
      "image/png": "[encoded data removed]",
      "text/plain": [
       "<matplotlib.figure.Figure at 0x7fa377fbdf90>"
      ]
     },
     "metadata": {},
     "output_type": "display_data"
    }
   ],
   "source": [
    "n_sample = 50000\n",
    "\n",
    "# Inverse Sampling\n",
    "#-----------------------------------\n",
    "uni_rv = np.random.rand(n_sample)\n",
    "gen_rv = -np.log(1-uni_rv)\n",
    "#-----------------------------------\n",
    "\n",
    "# Visualization\n",
    "x_exp = np.linspace(-2,expon.ppf(0.999),1000)\n",
    "x_uni = np.linspace(-2,2,1000)\n",
    "\n",
    "fig = plt.figure(figsize=(12,3))\n",
    "ax_uni = fig.add_subplot(1,2,1)\n",
    "ax_uni.hist(uni_rv, bins=10, normed=True, edgecolor=\"black\",label=\"uni rv histogram\")\n",
    "ax_uni.plot(x_uni, uniform.pdf(x_uni), label = \"uniform rv pdf\")\n",
    "ax_uni.set_xlim(-1,3)\n",
    "ax_uni.legend(loc=1)\n",
    "ax_gen = fig.add_subplot(1,2,2)\n",
    "ax_gen.hist(gen_rv, bins=40, normed=True, edgecolor=\"black\",label=\"gen rv histogram\")\n",
    "ax_gen.plot(x_exp, expon.pdf(x_exp), label = \"exponential rv pdf\")\n",
    "ax_gen.legend(loc=1)\n",
    "plt.show()"
   ]
  },
  {
   "cell_type": "markdown",
   "metadata": {
    "slideshow": {
     "slide_type": "slide"
    }
   },
   "source": [
    "## Acceptance-Rejection Sampling\n",
    "\n",
    "### Goal:\n",
    "using rv U with pdf uniform$(0, 1)$ and rv Y with cdf $G(y)$ to generate rv X with cdf $F(x)$\n",
    "\n",
    "### Algorithm:\n",
    "\n",
    "<img src=\"figures\\flow-chart.png\" alt=\"Drawing\" style=\"width: 750px;\"/>\n",
    "\n",
    "1. generate a rv $Y$ with pdf $g(y)$\n",
    "2. generate a uniform$(0,1)$ rv $U$ independent from $Y$\n",
    "3. if $U \\leq \\frac{f(Y)}{cg(Y)}$ then accept $Y$ as $X$, else go back to 1\n",
    "\n",
    "Finally the accepted $X$ has pdf $f(x)$"
   ]
  },
  {
   "cell_type": "markdown",
   "metadata": {
    "slideshow": {
     "slide_type": "slide"
    }
   },
   "source": [
    "### Some understanding:\n",
    "\n",
    "- $\\frac{f(Y)}{cg(Y)}$ is a rv with range $(0,1)$, $A = \\frac{f(Y)}{cg(Y)}$ could be considered as a rv represent the criteria\n",
    "- $p = P(U \\leq A) = \\frac{1}{c}$ is the probability that we accept $Y$ as a $X$, which actually represents average acceptance criteria\n",
    "- $N$ is iteration times, it is also a rv, which follows geometric distribution, $P(N=n) = (1-p)^{n-1}p \\Rightarrow E[N] = c$\n",
    "- $P(Y\\leq y | U \\leq \\frac{f(Y)}{cg(Y)}) = \\frac{P(U \\leq \\frac{f(Y)}{cg(Y)}| Y \\leq y) P(Y \\leq y)}{P(U \\leq \\frac{f(Y)}{cg(Y)})} = \\frac{\\frac{F(y)}{cG(y)} G(y)}{c^{-1}} = F(y)$"
   ]
  },
  {
   "cell_type": "markdown",
   "metadata": {
    "slideshow": {
     "slide_type": "slide"
    }
   },
   "source": [
    "### Proof 1:\n",
    "- $U$ is uniform$(0,1)$ rv\n",
    "- $A = \\frac{f(Y)}{cg(Y)}$ is rv with range $(0,1)$\n",
    "\n",
    "$\\begin{align}\n",
    "P(U \\leq A) &= \\underset{U,A}{\\iint} \\quad f_{U,A}(u,a) \\quad du da \\\\\n",
    "&= \\int_{a=0}^{a=1} \\int_{u=0}^{u=a} \\quad f_{U,A}(u,a) \\quad du da \\\\\n",
    "&= \\int_{a=0}^{a=1} \\int_{u=0}^{u=a} \\quad f_{U}(u)f_{A}(a) \\quad duda  \\longleftarrow \\text{independence}\\\\\n",
    "&= \\int_{a=0}^{a=1} \\quad \\int_{u=0}^{u=a} f_{U}(u)du \\quad f_{A}(a) da  \\\\\n",
    "&= \\int_{a=0}^{a=1} F_{U}(a) \\quad f_{A}(a) da  = \\int_{a=0}^{a=1} af_{A}(a) da = E[A] \\\\\n",
    "\\end{align}$ \n",
    "![](figures\\integ.png)\n",
    "\n",
    "### Proof 2:\n",
    "$\\begin{align}\n",
    "P(U \\leq A) &= E[A] = E[\\frac{f(Y)}{cg(Y)}] \\\\ \n",
    "&= \\int_{-\\infty}^{\\infty} \\frac{f(y)}{cg(y)} g(y) dy\\\\\n",
    "&= \\frac{1}{c} \\int_{-\\infty}^{\\infty} f(y) dy = \\frac{1}{c} \\\\\n",
    "\\end{align}$ \n",
    "\n",
    "### Proof 3:\n",
    "$\\begin{align}\n",
    "P(U \\leq \\frac{f(Y)}{cg(Y)} | Y \\leq y) &= \\frac{P(U \\leq \\frac{f(Y)}{cg(Y)}, Y \\leq y)}{P(Y \\leq y)} \\\\\n",
    "&= \\frac{P(U \\leq \\frac{f(Y)}{cg(Y)}, Y \\leq y)}{G(y)} \\\\\n",
    "&= \\frac{ \\int_{-\\infty}^{y} \\int_{u=0}^{\\frac{f(y)}{cg(y)}} f_{U,Y}(u, y) du dy }{G(y)} \\\\ \n",
    "&= \\frac{1}{G(y)}  \\int_{-\\infty}^{y} \\int_{u=0}^{\\frac{f(y)}{cg(y)}} f_{U}(u)f_{Y}(y) du dy \\\\\n",
    "&= \\frac{1}{G(y)}  \\int_{-\\infty}^{y} \\int_{u=0}^{\\frac{f(y)}{cg(y)}} g(y) du dy \\\\\n",
    "&= \\frac{1}{G(y)}  \\int_{-\\infty}^{y} \\int_{u=0}^{\\frac{f(y)}{cg(y)}} du g(y) dy \\\\\n",
    "&= \\frac{1}{G(y)}  \\int_{-\\infty}^{y} \\frac{f(y)}{cg(y)} g(y) dy \\\\\n",
    "&= \\frac{1}{c G(y)}  \\int_{-\\infty}^{y} f(y) dy \\\\\n",
    "&= \\frac{F(y)}{c G(y)} \\\\\n",
    "\\end{align}$"
   ]
  },
  {
   "cell_type": "markdown",
   "metadata": {
    "slideshow": {
     "slide_type": "slide"
    }
   },
   "source": [
    "## EXAMPLE\n",
    "\n",
    "### Goal:\n",
    "generate gaussian distribution pdf: $f(x) = \\frac{1}{\\sqrt{2 \\pi}} e^{- \\frac{x^2}{2}}$\n",
    "\n",
    "### Analysis:\n",
    "1. since gaussian distribution is symmetric, if we can generate $f(x) = \\frac{2}{\\sqrt{2 \\pi}} e^{- \\frac{x^2}{2}}, x \\ge 0$, then randomly assign the sign, then we can generate gaussian distribution.\n",
    "\n",
    "2. In order to use rejection sampling, we need to have pdf $f(x)$ and pdf $g(x)$, we can generate a exponential rv with inverse sampling as $g(x) = e^{-x}, x \\ge 0$\n",
    "\n",
    "3. How to choose $c$, since we want $\\frac{f(x)}{cg(x)} \\in (0,1)$, then we calculate \n",
    "$h(x) = \\frac{f(x)}{g(x)} = \\frac{2}{\\sqrt{2 \\pi}} e^{- \\frac{x^2}{2} + x}, x \\ge 0$, and its maximum is $h(1) = \\sqrt{\\frac{2e}{\\pi}} \\thickapprox 1.32$\n",
    "\n",
    "4. Finally we got $\\frac{f(x)}{cg(x)} = e^{- \\frac{(x-1)^2}{2}}, x \\ge 0$\n",
    "\n",
    "### Steps:\n",
    "1. Generate $Y$ exponential rv using inverse sampling by $U_1$ uniform$(0,1)$ rv.\n",
    "2. Generate $U_2$ uniform$(0,1)$ rv for rejection.\n",
    "3. If $U_2 \\le e^{- \\frac{(Y-1)^2}{2}}$, then accept $Y$ as $X$; else go back to 1\n",
    "4. If we accept $Y$, generate $U_3$ uniform$(0,1)$ rv for sign decision. If $U_3 \\leq 0.5$, then the sign is $+$, else $-$"
   ]
  },
  {
   "cell_type": "markdown",
   "metadata": {
    "slideshow": {
     "slide_type": "slide"
    }
   },
   "source": [
    "## CODING VALIDATION"
   ]
  },
  {
   "cell_type": "code",
   "execution_count": 3,
   "metadata": {
    "collapsed": true,
    "slideshow": {
     "slide_type": "subslide"
    }
   },
   "outputs": [],
   "source": [
    "n_sample = 50000\n",
    "\n",
    "def norm_rv():\n",
    "    N = 0 # number of iterations\n",
    "    X = 0 # norm_rv\n",
    "    while True:\n",
    "        N += 1\n",
    "        \n",
    "        # Inverse Sampling to generate exp rv\n",
    "        #-----------------------------------\n",
    "        uni_rv_1 = np.random.rand()\n",
    "        gen_exp_rv = -np.log(1-uni_rv_1)\n",
    "\n",
    "        # Rejection Sampling to generate norm_rv\n",
    "        #-----------------------------------\n",
    "        uni_rv_2 = np.random.rand()\n",
    "        h = np.exp(-(gen_exp_rv-1)**2/2)\n",
    "\n",
    "        if uni_rv_2 <= h:\n",
    "            break\n",
    "    \n",
    "    # Random Sign\n",
    "    uni_rv_3 = np.random.rand()\n",
    "    if uni_rv_3 < 0.5:\n",
    "        X = -gen_exp_rv    \n",
    "    else:\n",
    "        X = gen_exp_rv\n",
    "    \n",
    "    return (X, N)\n",
    "\n",
    "gen_norm_rv = np.array([norm_rv()[0] for i in range(100000)])"
   ]
  },
  {
   "cell_type": "code",
   "execution_count": 4,
   "metadata": {
    "slideshow": {
     "slide_type": "slide"
    }
   },
   "outputs": [
    {
     "data": {
      "image/png": "[encoded data removed]",
      "text/plain": [
       "<matplotlib.figure.Figure at 0x7fa377fbd9d0>"
      ]
     },
     "metadata": {},
     "output_type": "display_data"
    }
   ],
   "source": [
    "# Visualization\n",
    "\n",
    "from scipy.stats import norm\n",
    "x_norm = np.linspace(-5,5,100)\n",
    "fig = plt.figure(figsize=(16,4))\n",
    "ax_gen_norm = fig.add_subplot(1,2,1)\n",
    "ax_gen_norm.hist(gen_norm_rv, bins=20,edgecolor=\"black\", normed=True, label=\"generated normal rv hist\")\n",
    "ax_gen_norm.plot(x_norm, norm.pdf(x_norm), label=\"noraml rv pdf\")\n",
    "ax_gen_norm.legend(loc=1)\n",
    "plt.show()"
   ]
  }
 ],
 "metadata": {
  "kernelspec": {
   "display_name": "Python 2",
   "language": "python",
   "name": "python2"
  },
  "language_info": {
   "codemirror_mode": {
    "name": "ipython",
    "version": 2
   },
   "file_extension": ".py",
   "mimetype": "text/x-python",
   "name": "python",
   "nbconvert_exporter": "python",
   "pygments_lexer": "ipython2",
   "version": "2.7.13"
  }
 },
 "nbformat": 4,
 "nbformat_minor": 2
}
